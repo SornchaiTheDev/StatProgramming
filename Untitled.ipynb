{
 "cells": [
  {
   "cell_type": "code",
   "execution_count": 127,
   "id": "9da17ef1",
   "metadata": {},
   "outputs": [],
   "source": [
    "import pandas as pd\n",
    "import numpy as np\n",
    "import statistics\n",
    "from scipy import stats\n",
    "import statsmodels.api as sm"
   ]
  },
  {
   "cell_type": "code",
   "execution_count": 7,
   "id": "051ad7c0",
   "metadata": {},
   "outputs": [
    {
     "name": "stdout",
     "output_type": "stream",
     "text": [
      "1.3925586109974042\n",
      "1.6074413890025958\n"
     ]
    }
   ],
   "source": [
    "# โจทย์หน้า 11 สไลด์ 7.Est_params_part1\n",
    "alpha = 0.1\n",
    "s = 0.8\n",
    "n = 150\n",
    "xBar = 1.5\n",
    "print(xBar + stats.norm.ppf(alpha/2) * s / np.sqrt(n))\n",
    "print(xBar + stats.norm.isf(alpha/2) * s / np.sqrt(n))"
   ]
  },
  {
   "cell_type": "code",
   "execution_count": 14,
   "id": "3a225b13",
   "metadata": {},
   "outputs": [
    {
     "name": "stdout",
     "output_type": "stream",
     "text": [
      "alpha_1\n",
      "180.2839104760659\n",
      "279.7160895239341\n",
      "alpha_2\n",
      "168.6477472191342\n",
      "291.3522527808658\n",
      "alpha_3\n",
      "141.8607959355553\n",
      "318.1392040644447\n"
     ]
    }
   ],
   "source": [
    "# โจทย์หน้า 12 สไลด์ 7.Est_params_part1\n",
    "n = 10\n",
    "data = [200,150,120,300,250,170,220,180,310,400]\n",
    "xBar = np.mean(data)\n",
    "s = np.std(data , ddof=1) # ระวัง ddof ของกลุ่มตัวอย่าง\n",
    "alpha_1 = 0.1\n",
    "alpha_2 = 0.05\n",
    "alpha_3 = 0.01\n",
    "\n",
    "# alpha_1\n",
    "print(\"alpha_1\")\n",
    "print(xBar + stats.t.ppf(alpha_1/2 , df =(len(data)-1)) * s / np.sqrt(n))\n",
    "print(xBar + stats.t.isf(alpha_1/2 , df =(len(data)-1)) * s / np.sqrt(n))\n",
    "print(\"alpha_2\")\n",
    "print(xBar + stats.t.ppf(alpha_2/2 , df =(len(data)-1)) * s / np.sqrt(n))\n",
    "print(xBar + stats.t.isf(alpha_2/2 , df =(len(data)-1)) * s / np.sqrt(n))\n",
    "print(\"alpha_3\")\n",
    "print(xBar + stats.t.ppf(alpha_3/2 , df =(len(data)-1)) * s / np.sqrt(n))\n",
    "print(xBar + stats.t.isf(alpha_3/2 , df =(len(data)-1)) * s / np.sqrt(n))"
   ]
  },
  {
   "cell_type": "code",
   "execution_count": 17,
   "id": "aadf63d7",
   "metadata": {},
   "outputs": [
    {
     "name": "stdout",
     "output_type": "stream",
     "text": [
      "0.018722639118515533\n",
      "0.021277360881484467\n"
     ]
    }
   ],
   "source": [
    "# โจทย์หน้า 19 สไลด์ 7.Est_params_part1\n",
    "alpha = 0.1\n",
    "p = 650/32500\n",
    "n = 32500\n",
    "print(p + stats.norm.ppf(alpha/2) * np.sqrt((p*(1-p))/n))\n",
    "print(p + stats.norm.isf(alpha/2) * np.sqrt((p*(1-p))/n))"
   ]
  },
  {
   "cell_type": "code",
   "execution_count": 18,
   "id": "1e55fc07",
   "metadata": {},
   "outputs": [
    {
     "data": {
      "text/plain": [
       "238.66781609195402"
      ]
     },
     "execution_count": 18,
     "metadata": {},
     "output_type": "execute_result"
    }
   ],
   "source": [
    "scores = [40,64,49,41,57,49,61,36,72,42,47,80,57,62,26,40,53,63,42,44,50,70,92,55,60,42,63,54,24,78]\n",
    "np.var(scores,ddof=1)"
   ]
  },
  {
   "cell_type": "code",
   "execution_count": 19,
   "id": "376e0a76-e2a5-4ccb-a62c-382dfda1bd26",
   "metadata": {},
   "outputs": [
    {
     "data": {
      "text/plain": [
       "array([0.66666667, 0.33333333])"
      ]
     },
     "execution_count": 19,
     "metadata": {},
     "output_type": "execute_result"
    }
   ],
   "source": [
    "p = np.array([2/3,1/3])\n",
    "p"
   ]
  },
  {
   "cell_type": "code",
   "execution_count": 20,
   "id": "76107388-e454-4748-9b92-1a6103a692a0",
   "metadata": {},
   "outputs": [
    {
     "data": {
      "text/plain": [
       "array([66.66666667, 33.33333333])"
      ]
     },
     "execution_count": 20,
     "metadata": {},
     "output_type": "execute_result"
    }
   ],
   "source": [
    "E = 100 * p\n",
    "E"
   ]
  },
  {
   "cell_type": "code",
   "execution_count": 22,
   "id": "559d5d5d-071f-427c-861b-7ed5f6c22b7c",
   "metadata": {},
   "outputs": [],
   "source": [
    "O = np.array([[15,13,5,12],\n",
    "             [20,10,13,12]])"
   ]
  },
  {
   "cell_type": "code",
   "execution_count": 23,
   "id": "5fe9c23f-3ccb-439d-9bde-34a2caedf78b",
   "metadata": {},
   "outputs": [
    {
     "data": {
      "text/plain": [
       "(2, 4)"
      ]
     },
     "execution_count": 23,
     "metadata": {},
     "output_type": "execute_result"
    }
   ],
   "source": [
    "O.shape"
   ]
  },
  {
   "cell_type": "code",
   "execution_count": 24,
   "id": "bee3ca97-23d3-4c72-b5b0-2b5dd92aca84",
   "metadata": {},
   "outputs": [],
   "source": [
    "E = np.zeros(O.shape)"
   ]
  },
  {
   "cell_type": "code",
   "execution_count": 25,
   "id": "f3290da1-8e75-471e-8d06-db40821e327d",
   "metadata": {},
   "outputs": [
    {
     "data": {
      "text/plain": [
       "array([[0., 0., 0., 0.],\n",
       "       [0., 0., 0., 0.]])"
      ]
     },
     "execution_count": 25,
     "metadata": {},
     "output_type": "execute_result"
    }
   ],
   "source": [
    "E"
   ]
  },
  {
   "cell_type": "code",
   "execution_count": 38,
   "id": "5cf8559e-aaf8-4014-a1ca-948336307ef9",
   "metadata": {},
   "outputs": [
    {
     "name": "stdout",
     "output_type": "stream",
     "text": [
      "15.75\n",
      "10.35\n",
      "8.1\n",
      "10.8\n",
      "----\n",
      "19.25\n",
      "12.65\n",
      "9.9\n",
      "13.2\n",
      "----\n"
     ]
    }
   ],
   "source": [
    "for i in range(O.shape[0]):\n",
    "    for j in range(O.shape[1]):\n",
    "        print(O[i].sum()*O[:,j].sum()/O.sum())\n",
    "        E[i,j] = O[i].sum()*O[:,j].sum()/O.sum()\n",
    "    print(\"----\")"
   ]
  },
  {
   "cell_type": "code",
   "execution_count": 39,
   "id": "ff22fe13-488c-4f9f-8832-292087c7526e",
   "metadata": {},
   "outputs": [
    {
     "data": {
      "text/plain": [
       "array([[15.75, 10.35,  8.1 , 10.8 ],\n",
       "       [19.25, 12.65,  9.9 , 13.2 ]])"
      ]
     },
     "execution_count": 39,
     "metadata": {},
     "output_type": "execute_result"
    }
   ],
   "source": [
    "E"
   ]
  },
  {
   "cell_type": "code",
   "execution_count": 46,
   "id": "ec3f0a3a-cfc7-4230-b6ee-61b6cc7f3626",
   "metadata": {},
   "outputs": [],
   "source": [
    "chi2_cal = ((O-E)**2/E).sum()"
   ]
  },
  {
   "cell_type": "code",
   "execution_count": 47,
   "id": "156e553b-3da4-4beb-9802-21b1e90546cd",
   "metadata": {},
   "outputs": [
    {
     "data": {
      "text/plain": [
       "3.698126886532683"
      ]
     },
     "execution_count": 47,
     "metadata": {},
     "output_type": "execute_result"
    }
   ],
   "source": [
    "chi2_cal"
   ]
  },
  {
   "cell_type": "code",
   "execution_count": 49,
   "id": "d5c6a691-23c9-4394-8a45-bc16bcade1db",
   "metadata": {},
   "outputs": [],
   "source": [
    "v = (2-1)*(4-1)"
   ]
  },
  {
   "cell_type": "code",
   "execution_count": 50,
   "id": "86a4a875-a86c-41b5-81a5-08d722e7be41",
   "metadata": {},
   "outputs": [
    {
     "data": {
      "text/plain": [
       "3"
      ]
     },
     "execution_count": 50,
     "metadata": {},
     "output_type": "execute_result"
    }
   ],
   "source": [
    "v"
   ]
  },
  {
   "cell_type": "code",
   "execution_count": 51,
   "id": "3f0aa9be-df66-4ac7-9043-01097b1e3641",
   "metadata": {},
   "outputs": [],
   "source": [
    "alpha = 0.05\n",
    "chi2_crit = stats.chi2.isf(alpha,df=v)"
   ]
  },
  {
   "cell_type": "code",
   "execution_count": 52,
   "id": "5d6d7ce6-69ec-405b-ba6a-f9d539087740",
   "metadata": {},
   "outputs": [
    {
     "data": {
      "text/plain": [
       "7.814727903251178"
      ]
     },
     "execution_count": 52,
     "metadata": {},
     "output_type": "execute_result"
    }
   ],
   "source": [
    "chi2_crit"
   ]
  },
  {
   "cell_type": "code",
   "execution_count": 68,
   "id": "aec2c724-f3d3-4fb7-af5b-32e4b36b54bb",
   "metadata": {},
   "outputs": [
    {
     "data": {
      "text/plain": [
       "0.296"
      ]
     },
     "execution_count": 68,
     "metadata": {},
     "output_type": "execute_result"
    }
   ],
   "source": [
    "np.round(stats.chi2.sf(chi2_cal , df=v),3)"
   ]
  },
  {
   "cell_type": "code",
   "execution_count": 78,
   "id": "dfd38521-0749-4112-807c-d9eb4dc5665a",
   "metadata": {},
   "outputs": [
    {
     "data": {
      "text/plain": [
       "(2, 4)"
      ]
     },
     "execution_count": 78,
     "metadata": {},
     "output_type": "execute_result"
    }
   ],
   "source": [
    "O = np.array([[45,40,10,5],\n",
    "              [5,20,40,35]])\n",
    "\n",
    "O.shape"
   ]
  },
  {
   "cell_type": "code",
   "execution_count": 79,
   "id": "73cad7e0-d1ca-42b3-b7ca-a48c9816fe73",
   "metadata": {},
   "outputs": [],
   "source": [
    "E = np.zeros(O.shape)"
   ]
  },
  {
   "cell_type": "code",
   "execution_count": 85,
   "id": "2941def4-7f86-4f96-8236-c4dcbccbdbe7",
   "metadata": {},
   "outputs": [],
   "source": [
    "for i in range(O.shape[0]):\n",
    "    for j in range(O.shape[1]):\n",
    "        E[i,j] = O[i].sum()*O[:,j].sum()/O.sum()"
   ]
  },
  {
   "cell_type": "code",
   "execution_count": 86,
   "id": "c0418326-6bd4-4861-a6d0-58dfbfe44e6d",
   "metadata": {},
   "outputs": [
    {
     "data": {
      "text/plain": [
       "array([[25.000, 30.000, 25.000, 20.000],\n",
       "       [25.000, 30.000, 25.000, 20.000]])"
      ]
     },
     "execution_count": 86,
     "metadata": {},
     "output_type": "execute_result"
    }
   ],
   "source": [
    "E"
   ]
  },
  {
   "cell_type": "code",
   "execution_count": 89,
   "id": "ca99b2c4-e107-442c-8d50-88626f0d60bb",
   "metadata": {},
   "outputs": [],
   "source": [
    "alpha = 0.05\n",
    "chi2_cal = ((O-E)**2/E).sum()"
   ]
  },
  {
   "cell_type": "code",
   "execution_count": 90,
   "id": "6652d084-3451-4423-a90d-fbc397ec4430",
   "metadata": {},
   "outputs": [
    {
     "data": {
      "text/plain": [
       "79.16666666666666"
      ]
     },
     "execution_count": 90,
     "metadata": {},
     "output_type": "execute_result"
    }
   ],
   "source": [
    "chi2_cal"
   ]
  },
  {
   "cell_type": "code",
   "execution_count": 91,
   "id": "6759373c-3b95-48a1-801b-656880f369a8",
   "metadata": {},
   "outputs": [],
   "source": [
    "v = (2-1)*(4-1)\n",
    "chi2_crit = stats.chi2.isf(alpha,df=v)"
   ]
  },
  {
   "cell_type": "code",
   "execution_count": 92,
   "id": "2938c232-1c3c-4dce-8edf-46c75f000421",
   "metadata": {},
   "outputs": [
    {
     "data": {
      "text/plain": [
       "7.814727903251178"
      ]
     },
     "execution_count": 92,
     "metadata": {},
     "output_type": "execute_result"
    }
   ],
   "source": [
    "chi2_crit"
   ]
  },
  {
   "cell_type": "code",
   "execution_count": 94,
   "id": "3d579093-0098-423e-902c-add4cdb4660c",
   "metadata": {},
   "outputs": [
    {
     "data": {
      "text/plain": [
       "4.6320524991183165e-17"
      ]
     },
     "execution_count": 94,
     "metadata": {},
     "output_type": "execute_result"
    }
   ],
   "source": [
    "pVal = stats.chi2.sf(chi2_cal,df=v)\n",
    "pVal"
   ]
  },
  {
   "cell_type": "code",
   "execution_count": 95,
   "id": "41df5efd-2814-4792-8412-a7a700887bfc",
   "metadata": {},
   "outputs": [
    {
     "data": {
      "text/plain": [
       "(79.16666666666666,\n",
       " 4.6320524991183165e-17,\n",
       " 3,\n",
       " array([[25.000, 30.000, 25.000, 20.000],\n",
       "        [25.000, 30.000, 25.000, 20.000]]))"
      ]
     },
     "execution_count": 95,
     "metadata": {},
     "output_type": "execute_result"
    }
   ],
   "source": [
    "stats.chi2_contingency(O,correction=False)"
   ]
  },
  {
   "cell_type": "code",
   "execution_count": 96,
   "id": "3eba8e48-9dd1-4905-9988-a5d69e2afafe",
   "metadata": {},
   "outputs": [
    {
     "data": {
      "text/html": [
       "<div>\n",
       "<style scoped>\n",
       "    .dataframe tbody tr th:only-of-type {\n",
       "        vertical-align: middle;\n",
       "    }\n",
       "\n",
       "    .dataframe tbody tr th {\n",
       "        vertical-align: top;\n",
       "    }\n",
       "\n",
       "    .dataframe thead th {\n",
       "        text-align: right;\n",
       "    }\n",
       "</style>\n",
       "<table border=\"1\" class=\"dataframe\">\n",
       "  <thead>\n",
       "    <tr style=\"text-align: right;\">\n",
       "      <th></th>\n",
       "      <th>ad_cost</th>\n",
       "      <th>sale</th>\n",
       "    </tr>\n",
       "  </thead>\n",
       "  <tbody>\n",
       "    <tr>\n",
       "      <th>0</th>\n",
       "      <td>3.7</td>\n",
       "      <td>42.5</td>\n",
       "    </tr>\n",
       "    <tr>\n",
       "      <th>1</th>\n",
       "      <td>2.0</td>\n",
       "      <td>35.0</td>\n",
       "    </tr>\n",
       "    <tr>\n",
       "      <th>2</th>\n",
       "      <td>3.0</td>\n",
       "      <td>39.5</td>\n",
       "    </tr>\n",
       "    <tr>\n",
       "      <th>3</th>\n",
       "      <td>2.0</td>\n",
       "      <td>36.5</td>\n",
       "    </tr>\n",
       "    <tr>\n",
       "      <th>4</th>\n",
       "      <td>3.5</td>\n",
       "      <td>47.5</td>\n",
       "    </tr>\n",
       "    <tr>\n",
       "      <th>5</th>\n",
       "      <td>4.8</td>\n",
       "      <td>44.0</td>\n",
       "    </tr>\n",
       "    <tr>\n",
       "      <th>6</th>\n",
       "      <td>4.5</td>\n",
       "      <td>49.0</td>\n",
       "    </tr>\n",
       "    <tr>\n",
       "      <th>7</th>\n",
       "      <td>4.5</td>\n",
       "      <td>48.0</td>\n",
       "    </tr>\n",
       "    <tr>\n",
       "      <th>8</th>\n",
       "      <td>3.8</td>\n",
       "      <td>42.0</td>\n",
       "    </tr>\n",
       "    <tr>\n",
       "      <th>9</th>\n",
       "      <td>5.0</td>\n",
       "      <td>56.0</td>\n",
       "    </tr>\n",
       "    <tr>\n",
       "      <th>10</th>\n",
       "      <td>4.0</td>\n",
       "      <td>52.5</td>\n",
       "    </tr>\n",
       "    <tr>\n",
       "      <th>11</th>\n",
       "      <td>5.0</td>\n",
       "      <td>51.0</td>\n",
       "    </tr>\n",
       "  </tbody>\n",
       "</table>\n",
       "</div>"
      ],
      "text/plain": [
       "    ad_cost  sale\n",
       "0       3.7  42.5\n",
       "1       2.0  35.0\n",
       "2       3.0  39.5\n",
       "3       2.0  36.5\n",
       "4       3.5  47.5\n",
       "5       4.8  44.0\n",
       "6       4.5  49.0\n",
       "7       4.5  48.0\n",
       "8       3.8  42.0\n",
       "9       5.0  56.0\n",
       "10      4.0  52.5\n",
       "11      5.0  51.0"
      ]
     },
     "execution_count": 96,
     "metadata": {},
     "output_type": "execute_result"
    }
   ],
   "source": [
    "df = pd.read_csv(\"sale.csv\")\n",
    "df"
   ]
  },
  {
   "cell_type": "code",
   "execution_count": 103,
   "id": "337fc84a-745e-44bf-920a-63ad4a7c8314",
   "metadata": {},
   "outputs": [],
   "source": [
    "x = df.ad_cost\n",
    "y = df.sale\n",
    "n = df.shape[0]"
   ]
  },
  {
   "cell_type": "code",
   "execution_count": 114,
   "id": "fcc53d3c-6833-46bb-8fa2-0a9e73497918",
   "metadata": {},
   "outputs": [
    {
     "data": {
      "text/plain": [
       "0.8410425833995484"
      ]
     },
     "execution_count": 114,
     "metadata": {},
     "output_type": "execute_result"
    }
   ],
   "source": [
    "r = (n * (x*y).sum() - x.sum() * y.sum()) / \\\n",
    "(np.sqrt(n*(x**2).sum()- x.sum()**2)*np.sqrt(n*(y**2).sum()- y.sum()**2))\n",
    "r"
   ]
  },
  {
   "cell_type": "code",
   "execution_count": 113,
   "id": "1c2eb57d-87b8-4fe5-bf07-0f169657212f",
   "metadata": {},
   "outputs": [
    {
     "data": {
      "text/plain": [
       "(0.8410425833995457, 0.0006081181882655793)"
      ]
     },
     "execution_count": 113,
     "metadata": {},
     "output_type": "execute_result"
    }
   ],
   "source": [
    "stats.pearsonr(x,y)"
   ]
  },
  {
   "cell_type": "code",
   "execution_count": 130,
   "id": "67a5c918-ded6-4a56-a197-660098e09d3f",
   "metadata": {},
   "outputs": [
    {
     "name": "stdout",
     "output_type": "stream",
     "text": [
      "                            OLS Regression Results                            \n",
      "==============================================================================\n",
      "Dep. Variable:                   sale   R-squared:                       0.707\n",
      "Model:                            OLS   Adj. R-squared:                  0.678\n",
      "Method:                 Least Squares   F-statistic:                     24.17\n",
      "Date:                Sun, 19 Mar 2023   Prob (F-statistic):           0.000608\n",
      "Time:                        01:34:42   Log-Likelihood:                -31.561\n",
      "No. Observations:                  12   AIC:                             67.12\n",
      "Df Residuals:                      10   BIC:                             68.09\n",
      "Df Model:                           1                                         \n",
      "Covariance Type:            nonrobust                                         \n",
      "==============================================================================\n",
      "                 coef    std err          t      P>|t|      [0.025      0.975]\n",
      "------------------------------------------------------------------------------\n",
      "const         25.4655      4.170      6.107      0.000      16.174      34.757\n",
      "ad_cost        5.1946      1.057      4.916      0.001       2.840       7.549\n",
      "==============================================================================\n",
      "Omnibus:                        0.237   Durbin-Watson:                   2.071\n",
      "Prob(Omnibus):                  0.888   Jarque-Bera (JB):                0.144\n",
      "Skew:                           0.191   Prob(JB):                        0.930\n",
      "Kurtosis:                       2.622   Cond. No.                         16.4\n",
      "==============================================================================\n",
      "\n",
      "Notes:\n",
      "[1] Standard Errors assume that the covariance matrix of the errors is correctly specified.\n"
     ]
    },
    {
     "name": "stderr",
     "output_type": "stream",
     "text": [
      "/Users/imdev/opt/anaconda3/lib/python3.9/site-packages/scipy/stats/stats.py:1541: UserWarning: kurtosistest only valid for n>=20 ... continuing anyway, n=12\n",
      "  warnings.warn(\"kurtosistest only valid for n>=20 ... continuing \"\n"
     ]
    }
   ],
   "source": [
    "x_wconst = sm.add_constant(x)\n",
    "\n",
    "lr = sm.OLS(y,x_wconst).fit()\n",
    "print(lr.summary())"
   ]
  },
  {
   "cell_type": "code",
   "execution_count": null,
   "id": "94aedc1e-20e2-45b3-af57-0a41f72885a7",
   "metadata": {},
   "outputs": [],
   "source": []
  }
 ],
 "metadata": {
  "kernelspec": {
   "display_name": "Python 3 (ipykernel)",
   "language": "python",
   "name": "python3"
  },
  "language_info": {
   "codemirror_mode": {
    "name": "ipython",
    "version": 3
   },
   "file_extension": ".py",
   "mimetype": "text/x-python",
   "name": "python",
   "nbconvert_exporter": "python",
   "pygments_lexer": "ipython3",
   "version": "3.9.15"
  }
 },
 "nbformat": 4,
 "nbformat_minor": 5
}
