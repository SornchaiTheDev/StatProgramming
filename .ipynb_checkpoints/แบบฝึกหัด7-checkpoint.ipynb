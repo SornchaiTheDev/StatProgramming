{
 "cells": [
  {
   "cell_type": "markdown",
   "metadata": {
    "id": "U3ArbMi8JHGD"
   },
   "source": [
    "# แบบฝึกหัด 7"
   ]
  },
  {
   "cell_type": "markdown",
   "metadata": {
    "id": "t9RQYuu-JUwP"
   },
   "source": [
    "---"
   ]
  },
  {
   "cell_type": "code",
   "execution_count": 3,
   "metadata": {
    "id": "5LcuhePsgM1w"
   },
   "outputs": [],
   "source": [
    "import numpy as np\n",
    "from scipy import stats\n",
    "from statsmodels.stats.weightstats import ztest"
   ]
  },
  {
   "cell_type": "markdown",
   "metadata": {
    "id": "ag3TNOoapF2I"
   },
   "source": [
    "7.1 จากการเก็บข้อมูลของบูธร้านค้าร้านหนึ่งในงานเกษตรแฟร์โดยสุ่มตัวอย่างลูกค้ามาทั้งหมด 200 คน พบว่ามีอายุเฉลี่ย 42.8 ปี ส่วนเบี่ยงเบนมาตราฐาน 6.89 ปี ผู้ประกอบการร้านแห่งนี้จึงตั้งสมมุติฐานว่า ลูกค้าของทางร้านมีอายุเฉลี่ยสูงกว่า 40 ปี ที่ระดับนัยสำคัญ 0.01 สมมุติฐานนี้ถูกต้องหรือไม่ หากกำหนดให้การแจกแจงของอายุเป็นแบบปกติ  "
   ]
  },
  {
   "cell_type": "code",
   "execution_count": 4,
   "metadata": {
    "id": "eGMlvK2UXrtE"
   },
   "outputs": [],
   "source": [
    "# H0 u <= 40\n",
    "# H1 u > 40\n",
    "n = 200\n",
    "xBar = 42.8\n",
    "s = 6.89\n",
    "alpha = 0.01"
   ]
  },
  {
   "cell_type": "code",
   "execution_count": 5,
   "metadata": {},
   "outputs": [
    {
     "data": {
      "text/plain": [
       "5.747166871762936"
      ]
     },
     "execution_count": 5,
     "metadata": {},
     "output_type": "execute_result"
    }
   ],
   "source": [
    "z = (xBar - 40) / (s/np.sqrt(n))\n",
    "z"
   ]
  },
  {
   "cell_type": "code",
   "execution_count": 6,
   "metadata": {},
   "outputs": [
    {
     "data": {
      "text/plain": [
       "2.3263478740408408"
      ]
     },
     "execution_count": 6,
     "metadata": {},
     "output_type": "execute_result"
    }
   ],
   "source": [
    "z_crit = stats.norm.isf(alpha)\n",
    "z_crit"
   ]
  },
  {
   "cell_type": "markdown",
   "metadata": {},
   "source": [
    "ปฏิเสธ H0 เนื่องจากอยู่ในเขตวิกฤต"
   ]
  },
  {
   "cell_type": "code",
   "execution_count": 7,
   "metadata": {},
   "outputs": [
    {
     "data": {
      "text/plain": [
       "4.537557863298819e-09"
      ]
     },
     "execution_count": 7,
     "metadata": {},
     "output_type": "execute_result"
    }
   ],
   "source": [
    "pVal = stats.norm.sf(z)\n",
    "pVal"
   ]
  },
  {
   "cell_type": "markdown",
   "metadata": {
    "id": "IzcoD0hL8AQB"
   },
   "source": [
    "###   "
   ]
  },
  {
   "cell_type": "markdown",
   "metadata": {
    "id": "QIrBZzg28EEi"
   },
   "source": [
    "7.2 สุ่มตัวอย่างผลิตภัณฑ์ซักล้างยี่ห้อหนึ่งมาจำนวน 8 ชิ้นเพื่อวัดปริมาณสารพิษ พบว่าได้ปริมาณดังนี้ (10<sup>6</sup>ppm) 15, 8, 10, 13, 6, 16, 11, 18 จงทดสอบว่าปริมาณสารพิษของผลิตภัณฑ์ซักล้างยี่ห้อนี้มากกว่าหรือเท่ากับ (≥) 18x10<sup>6</sup>ppm ที่ระดับนัยสำคัญ 0.05 หรือไม่ หากกำหนดให้ปริมาณสารพิษชนิดนี้มีการแจกแจงแบบปกติ      "
   ]
  },
  {
   "cell_type": "code",
   "execution_count": 15,
   "metadata": {
    "id": "z7-tVncsuMB2"
   },
   "outputs": [
    {
     "data": {
      "text/plain": [
       "-4.032335130364934"
      ]
     },
     "execution_count": 15,
     "metadata": {},
     "output_type": "execute_result"
    }
   ],
   "source": [
    "# H0 u >= 18x10^6\n",
    "# H1 u < 18x10^6\n",
    "n = 8\n",
    "v = n - 1  \n",
    "data = [15, 8, 10, 13, 6, 16, 11, 18]\n",
    "alpha = 0.05\n",
    "xBar = np.mean(data)\n",
    "S = np.std(data,ddof=1)\n",
    "tCal = (xBar - 18) / (S / np.sqrt(n))\n",
    "tCal\n"
   ]
  },
  {
   "cell_type": "code",
   "execution_count": 9,
   "metadata": {},
   "outputs": [
    {
     "data": {
      "text/plain": [
       "-1.8945786050613054"
      ]
     },
     "execution_count": 9,
     "metadata": {},
     "output_type": "execute_result"
    }
   ],
   "source": [
    "tCrit = stats.t.ppf(alpha,df=v)\n",
    "tCrit"
   ]
  },
  {
   "cell_type": "code",
   "execution_count": 10,
   "metadata": {},
   "outputs": [
    {
     "data": {
      "text/plain": [
       "0.0024905124764684917"
      ]
     },
     "execution_count": 10,
     "metadata": {},
     "output_type": "execute_result"
    }
   ],
   "source": [
    "pVal = stats.t.cdf(tCal,df=v)\n",
    "pVal"
   ]
  },
  {
   "cell_type": "markdown",
   "metadata": {},
   "source": [
    "pVal < 0.05\n",
    "ปฏิเสธ H0 ยอมรับ H1 เนื่องจาก tCal อยู่ในเขตวิกฤต"
   ]
  },
  {
   "cell_type": "code",
   "execution_count": 14,
   "metadata": {},
   "outputs": [
    {
     "data": {
      "text/plain": [
       "Ttest_1sampResult(statistic=-4.032335130364934, pvalue=0.0024905124764684917)"
      ]
     },
     "execution_count": 14,
     "metadata": {},
     "output_type": "execute_result"
    }
   ],
   "source": [
    "stats.ttest_1samp(a=data,popmean=18,alternative=\"less\")"
   ]
  },
  {
   "cell_type": "markdown",
   "metadata": {
    "id": "NfuOc0DEX-mV"
   },
   "source": [
    "###   "
   ]
  },
  {
   "cell_type": "markdown",
   "metadata": {
    "id": "LRa6VC8dX-mc"
   },
   "source": [
    "7.3 ทำการ ping 158.108.216.5 จำนวน 10 ครั้ง ได้ระยะเวลาในหน่วย ms (milliseconds) ดังนี้ 28.2, 26.5, 30.7, 24.1, 25.3, 29.2, 21.6, 26.7, 23.4, 27.3 จงทดสอบว่าระยะเวลาที่ใช้ในการ ping โดยเฉลี่ยมีค่าเท่ากับ 26 ms หรือไม่ที่ระดับนัยสำคัญ 0.05 หากทราบมาว่าระยะเวลาที่ใช้ในการ ping มีการแจกแจงแบบปกติ"
   ]
  },
  {
   "cell_type": "code",
   "execution_count": 16,
   "metadata": {
    "id": "4SyUkxgouNU4"
   },
   "outputs": [
    {
     "data": {
      "text/plain": [
       "0.34282294000695074"
      ]
     },
     "execution_count": 16,
     "metadata": {},
     "output_type": "execute_result"
    }
   ],
   "source": [
    "# H0 : u = 26\n",
    "# H1 : u != 26\n",
    "\n",
    "data = [28.2, 26.5, 30.7, 24.1, 25.3, 29.2, 21.6, 26.7, 23.4, 27.3]\n",
    "n = 10\n",
    "v = n -1\n",
    "alpha = 0.05\n",
    "xBar = np.mean(data)\n",
    "S = np.std(data,ddof=1)\n",
    "tCal = (xBar - 26) / (S / np.sqrt(n))\n",
    "tCal"
   ]
  },
  {
   "cell_type": "code",
   "execution_count": 17,
   "metadata": {},
   "outputs": [
    {
     "name": "stdout",
     "output_type": "stream",
     "text": [
      "-2.262157162740992 2.262157162740992\n"
     ]
    }
   ],
   "source": [
    "t_crit_left = stats.t.ppf(alpha/2,df=v)\n",
    "t_crit_right = stats.t.isf(alpha/2,df=v)\n",
    "print(t_crit_left , t_crit_right)"
   ]
  },
  {
   "cell_type": "code",
   "execution_count": 33,
   "metadata": {},
   "outputs": [
    {
     "data": {
      "text/plain": [
       "0.7396027657579755"
      ]
     },
     "execution_count": 33,
     "metadata": {},
     "output_type": "execute_result"
    }
   ],
   "source": [
    "pVal = 2*stats.t.sf(abs(tCal),df=v)\n",
    "pVal"
   ]
  },
  {
   "cell_type": "markdown",
   "metadata": {},
   "source": [
    "pVal > 0.05 ยอมรับ H0 เนื่องจากอยู่นอกเขตวิกฤต"
   ]
  },
  {
   "cell_type": "code",
   "execution_count": 20,
   "metadata": {},
   "outputs": [
    {
     "data": {
      "text/plain": [
       "Ttest_1sampResult(statistic=0.3428229400069507, pvalue=0.7396027657579756)"
      ]
     },
     "execution_count": 20,
     "metadata": {},
     "output_type": "execute_result"
    }
   ],
   "source": [
    "stats.ttest_1samp(a=data , popmean=26 , alternative=\"two-sided\")"
   ]
  },
  {
   "cell_type": "markdown",
   "metadata": {
    "id": "2L30gP1ae_Du"
   },
   "source": [
    "###   "
   ]
  },
  {
   "cell_type": "markdown",
   "metadata": {
    "id": "jb1NBlWke_D2"
   },
   "source": [
    "7.4 ห้องปฏิบัติการ 2 แห่ง สุ่มตรวจสอบปริมาณนิโคตินในบุหรี่ยี่ห้อหนึ่งด้ผลการวิเคราะห์ปริมาณนิโคติน (มิลลิกรัม) ดังนี้  \n",
    "ห้องปฏิบัติการ1: 56, 37, 61, 56, 65, 41, 63, 50, 42   \n",
    "ห้องปฏิบัติการ2: 46, 25, 46, 64, 34, 56   \n",
    "จงทดสอบสมมติฐานว่าปริมาณนิโคตินที่วิเคราะห์ได้โดยห้องปฏิบัติการสองแห่งนี้ไม่แตกต่างกัน\n",
    "ที่ระดับนัยสำคัญ 0.10 หากกำหนดให้ปริมาณนิโคตินในบุหรี่ที่วิเคราะห์ได้โดยห้องปฏิบัติการทั้งสองมีการ\n",
    "แจกแจงแบบปกติที่มีค่าความแปรปรวนเท่ากัน  "
   ]
  },
  {
   "cell_type": "code",
   "execution_count": 24,
   "metadata": {
    "id": "r4oVfpk9uTVG"
   },
   "outputs": [
    {
     "data": {
      "text/plain": [
       "Ttest_indResult(statistic=1.1377678816988284, pvalue=0.2757530487532558)"
      ]
     },
     "execution_count": 24,
     "metadata": {},
     "output_type": "execute_result"
    }
   ],
   "source": [
    "# H0 : u1-u2 = 0\n",
    "# H1 : u1-u2 != 0\n",
    "\n",
    "A = [56, 37, 61, 56, 65, 41, 63, 50, 42]\n",
    "B = [46, 25, 46, 64, 34, 56]\n",
    "lenA = len(A)\n",
    "lenB = len(B)\n",
    "xBarA = np.mean(A)\n",
    "xBarB = np.mean(B)\n",
    "SA = np.std(A,ddof=1)\n",
    "SB = np.std(B,ddof=1)\n",
    "alpha = 0.1\n",
    "stats.ttest_ind(a=A,b=B,equal_var=True,alternative=\"two-sided\")"
   ]
  },
  {
   "cell_type": "code",
   "execution_count": 27,
   "metadata": {},
   "outputs": [
    {
     "name": "stdout",
     "output_type": "stream",
     "text": [
      "-1.7709333959867992 1.7709333959867992\n"
     ]
    }
   ],
   "source": [
    "t_crit_left = stats.t.ppf(alpha/2,df=lenA+lenB - 2)\n",
    "t_crit_right = stats.t.isf(alpha/2,df=lenA+lenB - 2)\n",
    "print(t_crit_left,t_crit_right)"
   ]
  },
  {
   "cell_type": "markdown",
   "metadata": {
    "id": "HV7pSFLVjP8J"
   },
   "source": [
    "###   "
   ]
  },
  {
   "cell_type": "markdown",
   "metadata": {
    "id": "9IshON3wjP8J"
   },
   "source": [
    "7.5 เครื่องใช้พลาสติกชนิดหนึ่ง ผลิตโดยกระบวนการผลิตแตกต่างกัน 2 วิธี คือ A และ B ต้องการตรวจสอบความ\n",
    "เหนียวของพลาสติกที่ผลิตได้โดยทั้งสองกระบวนการนี้ว่าแตกต่างกันหรือไม่ จึงสุ่มตัวอย่าง\n",
    "ผลิตภัณฑ์จากกระบวนการผลิต A มา 30 ชิ้น ทดสอบและคำนวณค่าความเหนียวเฉลี่ยได้เป็น\n",
    "28.3 ส่วนเบี่ยงเบนมาตรฐาน 3.3 เมื่อสุ่มผลิตภัณฑ์จากกระบวนการผลิต B 40 ชิ้น คำนวณค่าความเหนียวเฉลี่ยได้เป็น 26.7 ส่วนเบี่ยงเบนมาตรฐานเป็น 4.9 หากการทดสอบโดยใช้ระดับนัยสำคัญ 0.05  "
   ]
  },
  {
   "cell_type": "code",
   "execution_count": 29,
   "metadata": {
    "id": "HA_rpEPNuUdd"
   },
   "outputs": [
    {
     "data": {
      "text/plain": [
       "1.6302359794089838"
      ]
     },
     "execution_count": 29,
     "metadata": {},
     "output_type": "execute_result"
    }
   ],
   "source": [
    "# H0 : u1-u2 = 0\n",
    "# H1 : u1-u2 != 0\n",
    "nA = 30\n",
    "xBarA = 28.3\n",
    "SA = 3.3\n",
    "nB = 40\n",
    "xBarB = 26.7\n",
    "SB = 4.9\n",
    "alpha = 0.05\n",
    "\n",
    "zCal = ((xBarA - xBarB) - 0) / np.sqrt(((SA**2)/nA) + ((SB**2)/nB))\n",
    "zCal"
   ]
  },
  {
   "cell_type": "code",
   "execution_count": 30,
   "metadata": {},
   "outputs": [
    {
     "name": "stdout",
     "output_type": "stream",
     "text": [
      "-1.9599639845400545 1.9599639845400545\n"
     ]
    }
   ],
   "source": [
    "z_crit_left = stats.norm.ppf(alpha/2)\n",
    "z_crit_right = stats.norm.isf(alpha/2)\n",
    "print(z_crit_left,z_crit_right)"
   ]
  },
  {
   "cell_type": "code",
   "execution_count": 32,
   "metadata": {},
   "outputs": [
    {
     "data": {
      "text/plain": [
       "0.10305163240311598"
      ]
     },
     "execution_count": 32,
     "metadata": {},
     "output_type": "execute_result"
    }
   ],
   "source": [
    "pVal = 2*stats.norm.sf(abs(zCal))\n",
    "pVal"
   ]
  },
  {
   "cell_type": "code",
   "execution_count": null,
   "metadata": {},
   "outputs": [],
   "source": []
  }
 ],
 "metadata": {
  "colab": {
   "provenance": []
  },
  "kernelspec": {
   "display_name": "Python 3 (ipykernel)",
   "language": "python",
   "name": "python3"
  },
  "language_info": {
   "codemirror_mode": {
    "name": "ipython",
    "version": 3
   },
   "file_extension": ".py",
   "mimetype": "text/x-python",
   "name": "python",
   "nbconvert_exporter": "python",
   "pygments_lexer": "ipython3",
   "version": "3.9.15"
  }
 },
 "nbformat": 4,
 "nbformat_minor": 4
}
